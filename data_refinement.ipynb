{
 "cells": [
  {
   "cell_type": "code",
   "execution_count": 2,
   "metadata": {},
   "outputs": [],
   "source": [
    "import json\n",
    "import csv"
   ]
  },
  {
   "cell_type": "code",
   "execution_count": 4,
   "metadata": {},
   "outputs": [],
   "source": [
    "with open('data/raw/worldbank-emissions.csv') as csvfile:\n",
    "    reader = csv.DictReader(csvfile)\n",
    "    for row in reader:\n",
    "        with open('data/emissions/' + row['Country Name'] + '.json', 'w') as f:\n",
    "            json.dump({\n",
    "                'x': list(range(1960, 2018)),\n",
    "                'y': [row[str(i)] for i in range(1960, 2018)],\n",
    "                'mode': 'lines+markers',\n",
    "                'name': row['Country Name'] + \"(Total CO2 Emissions in metric tons per capita)\",\n",
    "            }, f)"
   ]
  },
  {
   "cell_type": "code",
   "execution_count": 6,
   "metadata": {},
   "outputs": [],
   "source": [
    "with open('data/raw/worldbank-emissions_total.csv') as csvfile:\n",
    "    reader = csv.DictReader(csvfile)\n",
    "    for row in reader:\n",
    "        with open('data/emissions_total/' + row['Country Name'] + '.json', 'w') as f:\n",
    "            json.dump({\n",
    "                'x': list(range(1960, 2018)),\n",
    "                'y': [row[str(i)] for i in range(1960, 2018)],\n",
    "                'mode': 'lines+markers',\n",
    "                'name': row['Country Name'] + \"(CO2 emissions in kt)\",\n",
    "            }, f)"
   ]
  },
  {
   "cell_type": "code",
   "execution_count": 3,
   "metadata": {},
   "outputs": [],
   "source": [
    "data = {'labels': [], 'parents': [], 'values': []}\n",
    "categories = ['Transport (tonnes)', 'Energy (tonnes)', 'Other sources (tonnes)', 'Agriculture, Land Use & Forestry (tonnes)', 'Waste (tonnes)', 'Residential & commercial (tonnes)', 'Industry (tonnes)', 'Agriculture (tonnes)']\n",
    "\n",
    "with open('data/raw/ourworldindata-global-carbon-dioxide-emissions-by-sector.csv') as csvfile:\n",
    "    reader = csv.DictReader(csvfile)\n",
    "    for row in reader:\n",
    "        if row['Year'] != '2010':\n",
    "            continue\n",
    "\n",
    "        if row['Entity'] == 'World':\n",
    "            data['labels'].append(row['Entity'])\n",
    "            data['parents'].append('')\n",
    "            data['values'].append(sum(float(row[c]) for c in categories))\n",
    "            \n",
    "            for c in categories:\n",
    "                data['labels'].append(c[:-9])\n",
    "                data['parents'].append('World')\n",
    "                data['values'].append(row[c])\n",
    "            \n",
    "            continue\n",
    "        \n",
    "        if not row['Code']:\n",
    "            continue\n",
    "\n",
    "        for c in categories:\n",
    "            if row[c] and float(row[c]) > 100000000:\n",
    "                data['labels'].append(row['Entity'])\n",
    "                data['parents'].append(c[:-9])\n",
    "                data['values'].append(row[c])\n",
    "            \n",
    "with open('data/sector_sunburst.json', 'w') as f:\n",
    "    json.dump({\n",
    "        'type': 'sunburst',\n",
    "        'labels': data['labels'],\n",
    "        'parents': data['parents'],\n",
    "        'values': data['values'],\n",
    "        'name': 'CO2 Emissions per Sector',\n",
    "    }, f)"
   ]
  },
  {
   "cell_type": "code",
   "execution_count": null,
   "metadata": {},
   "outputs": [],
   "source": []
  }
 ],
 "metadata": {
  "kernelspec": {
   "display_name": "Python 3",
   "language": "python",
   "name": "python3"
  },
  "language_info": {
   "codemirror_mode": {
    "name": "ipython",
    "version": 3
   },
   "file_extension": ".py",
   "mimetype": "text/x-python",
   "name": "python",
   "nbconvert_exporter": "python",
   "pygments_lexer": "ipython3",
   "version": "3.7.4"
  }
 },
 "nbformat": 4,
 "nbformat_minor": 2
}
