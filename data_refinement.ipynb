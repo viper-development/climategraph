{
 "cells": [
  {
   "cell_type": "code",
   "execution_count": 3,
   "metadata": {},
   "outputs": [],
   "source": [
    "import json\n",
    "import csv"
   ]
  },
  {
   "cell_type": "code",
   "execution_count": 4,
   "metadata": {},
   "outputs": [],
   "source": [
    "with open('data/raw/worldbank-emissions.csv') as csvfile:\n",
    "    reader = csv.DictReader(csvfile)\n",
    "    for row in reader:\n",
    "        with open('data/emissions/' + row['Country Name'] + '.json', 'w') as f:\n",
    "            json.dump({\n",
    "                'x': list(range(1960, 2018)),\n",
    "                'y': [row[str(i)] for i in range(1960, 2018)],\n",
    "                'mode': 'lines+markers',\n",
    "                'name': row['Country Name'] + \"(Total CO2 Emissions in metric tons per capita)\",\n",
    "            }, f)"
   ]
  },
  {
   "cell_type": "code",
   "execution_count": 6,
   "metadata": {},
   "outputs": [],
   "source": [
    "with open('data/raw/worldbank-emissions_total.csv') as csvfile:\n",
    "    reader = csv.DictReader(csvfile)\n",
    "    for row in reader:\n",
    "        with open('data/emissions_total/' + row['Country Name'] + '.json', 'w') as f:\n",
    "            json.dump({\n",
    "                'x': list(range(1960, 2018)),\n",
    "                'y': [row[str(i)] for i in range(1960, 2018)],\n",
    "                'mode': 'lines+markers',\n",
    "                'name': row['Country Name'] + \"(CO2 emissions in kt)\",\n",
    "            }, f)"
   ]
  },
  {
   "cell_type": "code",
   "execution_count": null,
   "metadata": {},
   "outputs": [],
   "source": []
  }
 ],
 "metadata": {
  "kernelspec": {
   "display_name": "Python 3",
   "language": "python",
   "name": "python3"
  },
  "language_info": {
   "codemirror_mode": {
    "name": "ipython",
    "version": 3
   },
   "file_extension": ".py",
   "mimetype": "text/x-python",
   "name": "python",
   "nbconvert_exporter": "python",
   "pygments_lexer": "ipython3",
   "version": "3.7.4"
  }
 },
 "nbformat": 4,
 "nbformat_minor": 2
}
