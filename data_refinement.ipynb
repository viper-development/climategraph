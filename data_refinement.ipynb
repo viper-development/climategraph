{
 "cells": [
  {
   "cell_type": "code",
   "execution_count": 1,
   "metadata": {},
   "outputs": [],
   "source": [
    "import json\n",
    "import csv"
   ]
  },
  {
   "cell_type": "code",
   "execution_count": 42,
   "metadata": {},
   "outputs": [],
   "source": [
    "with open('data/raw/emissions.csv') as csvfile:\n",
    "    reader = csv.DictReader(csvfile)\n",
    "    for row in reader:\n",
    "        with open('data/emissions/' + row['Country Name'] + '.json', 'w') as f:\n",
    "            json.dump({\n",
    "                'x': list(range(1960, 2018)),\n",
    "                'y': [row[str(i)] for i in range(1960, 2018)],\n",
    "                'mode': 'lines+markers',\n",
    "                'name': row['Country Name'] + \"(Total CO2 Emissions in metric tons per capita)\",\n",
    "            }, f)"
   ]
  },
  {
   "cell_type": "code",
   "execution_count": 43,
   "metadata": {},
   "outputs": [
    {
     "name": "stdout",
     "output_type": "stream",
     "text": [
      "OrderedDict([('Country Name', 'Aruba'), ('Country Code', 'ABW'), ('Indicator Name', 'CO2 emissions (kt)'), ('Indicator Code', 'EN.ATM.CO2E.KT'), ('1960', ''), ('1961', ''), ('1962', ''), ('1963', ''), ('1964', ''), ('1965', ''), ('1966', ''), ('1967', ''), ('1968', ''), ('1969', ''), ('1970', ''), ('1971', ''), ('1972', ''), ('1973', ''), ('1974', ''), ('1975', ''), ('1976', ''), ('1977', ''), ('1978', ''), ('1979', ''), ('1980', ''), ('1981', ''), ('1982', ''), ('1983', ''), ('1984', ''), ('1985', ''), ('1986', '179.683'), ('1987', '447.374'), ('1988', '612.389'), ('1989', '649.059'), ('1990', '1639.149'), ('1991', '1683.153'), ('1992', '1463.133'), ('1993', '1595.145'), ('1994', '1613.48'), ('1995', '1668.485'), ('1996', '1690.487'), ('1997', '1745.492'), ('1998', '1796.83'), ('1999', '1807.831'), ('2000', '2379.883'), ('2001', '2409.219'), ('2002', '2438.555'), ('2003', '2563.233'), ('2004', '2618.238'), ('2005', '2720.914'), ('2006', '2717.247'), ('2007', '2823.59'), ('2008', '2658.575'), ('2009', '2629.239'), ('2010', '2508.228'), ('2011', '2500.894'), ('2012', '1349.456'), ('2013', '861.745'), ('2014', '872.746'), ('2015', ''), ('2016', ''), ('2017', ''), ('2018', '')])\n"
     ]
    }
   ],
   "source": [
    "with open('data/raw/emissions_total.csv') as csvfile:\n",
    "    reader = csv.DictReader(csvfile)\n",
    "    for row in reader:\n",
    "        print(row)\n",
    "        break\n",
    "        with open('data/emissions_total/' + row['Country Name'] + '.json', 'w') as f:\n",
    "            json.dump({\n",
    "                'x': list(range(1960, 2018)),\n",
    "                'y': [row[str(i)] for i in range(1960, 2018)],\n",
    "                'mode': 'lines+markers',\n",
    "                'name': row['Country Name'] + \"(CO2 emissions in kt)\",\n",
    "            }, f)"
   ]
  },
  {
   "cell_type": "code",
   "execution_count": null,
   "metadata": {},
   "outputs": [],
   "source": []
  }
 ],
 "metadata": {
  "kernelspec": {
   "display_name": "Python 3",
   "language": "python",
   "name": "python3"
  },
  "language_info": {
   "codemirror_mode": {
    "name": "ipython",
    "version": 3
   },
   "file_extension": ".py",
   "mimetype": "text/x-python",
   "name": "python",
   "nbconvert_exporter": "python",
   "pygments_lexer": "ipython3",
   "version": "3.7.4"
  }
 },
 "nbformat": 4,
 "nbformat_minor": 2
}
